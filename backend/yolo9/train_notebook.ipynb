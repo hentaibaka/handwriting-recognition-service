{
 "cells": [
  {
   "cell_type": "code",
   "execution_count": 1,
   "metadata": {},
   "outputs": [
    {
     "name": "stderr",
     "output_type": "stream",
     "text": [
      "\u001b[34m\u001b[1mtrain: \u001b[0mweights={HOME}/weights/gelan-c.pt, cfg=models/detect/gelan-c.yaml, data=C:/Users/user/Desktop/fissures_bubbles_data/fissures_bubbles_data/data.yaml, hyp=hyp.scratch-high.yaml, epochs=300, batch_size=16, imgsz=640, rect=False, resume=False, nosave=False, noval=False, noautoanchor=False, noplots=False, evolve=None, bucket=, cache=None, image_weights=False, device=0, multi_scale=False, single_cls=False, optimizer=SGD, sync_bn=False, workers=8, project=runs\\train, name=exp, exist_ok=False, quad=False, cos_lr=False, flat_cos_lr=False, fixed_lr=False, label_smoothing=0.0, patience=100, freeze=[0], save_period=-1, seed=0, local_rank=-1, min_items=0, close_mosaic=50, entity=None, upload_dataset=False, bbox_interval=-1, artifact_alias=latest\n",
      "YOLO  519346b Python-3.10.7 torch-1.13.1+cu117 CUDA:0 (NVIDIA GeForce RTX 3090 Ti, 24564MiB)\n",
      "\n",
      "\u001b[34m\u001b[1mhyperparameters: \u001b[0mlr0=0.01, lrf=0.01, momentum=0.937, weight_decay=0.0005, warmup_epochs=3.0, warmup_momentum=0.8, warmup_bias_lr=0.1, box=7.5, cls=0.5, cls_pw=1.0, obj=0.7, obj_pw=1.0, dfl=1.5, iou_t=0.2, anchor_t=5.0, fl_gamma=0.0, hsv_h=0.015, hsv_s=0.7, hsv_v=0.4, degrees=0.0, translate=0.1, scale=0.9, shear=0.0, perspective=0.0, flipud=0.0, fliplr=0.5, mosaic=1.0, mixup=0.15, copy_paste=0.3\n",
      "\u001b[34m\u001b[1mClearML: \u001b[0mrun 'pip install clearml' to automatically track, visualize and remotely train YOLO  in ClearML\n",
      "\u001b[34m\u001b[1mComet: \u001b[0mrun 'pip install comet_ml' to automatically track and visualize YOLO  runs in Comet\n",
      "\u001b[34m\u001b[1mTensorBoard: \u001b[0mStart with 'tensorboard --logdir runs\\train', view at http://localhost:6006/\n",
      "\n",
      "Dataset not found , missing paths ['C:\\\\content\\\\drive\\\\My Drive\\\\fissures_bubbles_data\\\\valid\\\\images']\n",
      "Traceback (most recent call last):\n",
      "  File \"c:\\Users\\user\\yolo9_train\\yolov9\\train.py\", line 634, in <module>\n",
      "    main(opt)\n",
      "  File \"c:\\Users\\user\\yolo9_train\\yolov9\\train.py\", line 528, in main\n",
      "    train(opt.hyp, opt, device, callbacks)\n",
      "  File \"c:\\Users\\user\\yolo9_train\\yolov9\\train.py\", line 95, in train\n",
      "    data_dict = data_dict or check_dataset(data)  # check if None\n",
      "  File \"c:\\Users\\user\\yolo9_train\\yolov9\\utils\\general.py\", line 537, in check_dataset\n",
      "    raise Exception('Dataset not found ❌')\n",
      "Exception: Dataset not found ❌\n"
     ]
    }
   ],
   "source": [
    "!python train.py \n",
    "--batch 16 --epochs 300 --img 640 --device 0 --min-items 0 --close-mosaic 50 \n",
    "--data C:/Users/user/Desktop/fissures_bubbles_data/fissures_bubbles_data/data.yaml \n",
    "--weights C:/Users/user/Desktop/gelan-c.pt \n",
    "--cfg models/detect/gelan-c.yaml \n",
    "--hyp hyp.scratch-high.yaml \n",
    "\n",
    "\n",
    "\n",
    "\n",
    "docker run --gpus all -it -v C:/Users/user/Desktop/fissures_bubbles_data/fissures_bubbles_data yolo9\n",
    "\n",
    "python train.py \n",
    "--batch 16 --epochs 300 --img 640 --device 0 --min-items 0\n",
    "--data path/to//data.yaml \n",
    "--weights path/to/weights.pt\n",
    "--cfg models/detect/gelan-c.yaml \n",
    "--hyp hyp.scratch-high.yaml "
   ]
  }
 ],
 "metadata": {
  "kernelspec": {
   "display_name": "Python 3",
   "language": "python",
   "name": "python3"
  },
  "language_info": {
   "codemirror_mode": {
    "name": "ipython",
    "version": 3
   },
   "file_extension": ".py",
   "mimetype": "text/x-python",
   "name": "python",
   "nbconvert_exporter": "python",
   "pygments_lexer": "ipython3",
   "version": "3.10.7"
  }
 },
 "nbformat": 4,
 "nbformat_minor": 2
}
